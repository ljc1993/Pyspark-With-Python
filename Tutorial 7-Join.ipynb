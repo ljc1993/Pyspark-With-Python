{
 "cells": [
  {
   "cell_type": "markdown",
   "metadata": {},
   "source": [
    "PySpark Join is used to combine two DataFrames and by chaining these you can join multiple DataFrames; it supports all basic join type operations available in traditional SQL like INNER, LEFT OUTER, RIGHT OUTER, LEFT ANTI, LEFT SEMI, CROSS, SELF JOIN. "
   ]
  },
  {
   "cell_type": "code",
   "execution_count": 2,
   "metadata": {},
   "outputs": [
    {
     "name": "stderr",
     "output_type": "stream",
     "text": [
      "Using Spark's default log4j profile: org/apache/spark/log4j-defaults.properties\n",
      "Setting default log level to \"WARN\".\n",
      "To adjust logging level use sc.setLogLevel(newLevel). For SparkR, use setLogLevel(newLevel).\n",
      "22/05/16 17:56:20 WARN NativeCodeLoader: Unable to load native-hadoop library for your platform... using builtin-java classes where applicable\n"
     ]
    }
   ],
   "source": [
    "import pyspark\n",
    "from pyspark.sql import SparkSession\n",
    "spark=SparkSession.builder.appName('join').getOrCreate()\n"
   ]
  },
  {
   "cell_type": "code",
   "execution_count": 1,
   "metadata": {},
   "outputs": [
    {
     "ename": "ModuleNotFoundError",
     "evalue": "No module named 'matplotlib'",
     "output_type": "error",
     "traceback": [
      "\u001b[0;31m---------------------------------------------------------------------------\u001b[0m",
      "\u001b[0;31mModuleNotFoundError\u001b[0m                       Traceback (most recent call last)",
      "\u001b[1;32m/Users/jiachengli/Documents/VS Code/Pyspark-With-Python/Tutorial 7-Join.ipynb Cell 3'\u001b[0m in \u001b[0;36m<cell line: 5>\u001b[0;34m()\u001b[0m\n\u001b[1;32m      <a href='vscode-notebook-cell:/Users/jiachengli/Documents/VS%20Code/Pyspark-With-Python/Tutorial%207-Join.ipynb#ch0000002?line=0'>1</a>\u001b[0m \u001b[39m# Python program to read\u001b[39;00m\n\u001b[1;32m      <a href='vscode-notebook-cell:/Users/jiachengli/Documents/VS%20Code/Pyspark-With-Python/Tutorial%207-Join.ipynb#ch0000002?line=1'>2</a>\u001b[0m \u001b[39m# image using matplotlib\u001b[39;00m\n\u001b[1;32m      <a href='vscode-notebook-cell:/Users/jiachengli/Documents/VS%20Code/Pyspark-With-Python/Tutorial%207-Join.ipynb#ch0000002?line=2'>3</a>\u001b[0m  \n\u001b[1;32m      <a href='vscode-notebook-cell:/Users/jiachengli/Documents/VS%20Code/Pyspark-With-Python/Tutorial%207-Join.ipynb#ch0000002?line=3'>4</a>\u001b[0m \u001b[39m# importing matplotlib modules\u001b[39;00m\n\u001b[0;32m----> <a href='vscode-notebook-cell:/Users/jiachengli/Documents/VS%20Code/Pyspark-With-Python/Tutorial%207-Join.ipynb#ch0000002?line=4'>5</a>\u001b[0m \u001b[39mimport\u001b[39;00m \u001b[39mmatplotlib\u001b[39;00m\u001b[39m.\u001b[39;00m\u001b[39mimage\u001b[39;00m \u001b[39mas\u001b[39;00m \u001b[39mmpimg\u001b[39;00m\n\u001b[1;32m      <a href='vscode-notebook-cell:/Users/jiachengli/Documents/VS%20Code/Pyspark-With-Python/Tutorial%207-Join.ipynb#ch0000002?line=5'>6</a>\u001b[0m \u001b[39mimport\u001b[39;00m \u001b[39mmatplotlib\u001b[39;00m\u001b[39m.\u001b[39;00m\u001b[39mpyplot\u001b[39;00m \u001b[39mas\u001b[39;00m \u001b[39mplt\u001b[39;00m\n\u001b[1;32m      <a href='vscode-notebook-cell:/Users/jiachengli/Documents/VS%20Code/Pyspark-With-Python/Tutorial%207-Join.ipynb#ch0000002?line=7'>8</a>\u001b[0m img \u001b[39m=\u001b[39m mpimg\u001b[39m.\u001b[39mimread(\u001b[39m'\u001b[39m\u001b[39mg4g.png\u001b[39m\u001b[39m'\u001b[39m)\n",
      "\u001b[0;31mModuleNotFoundError\u001b[0m: No module named 'matplotlib'"
     ]
    }
   ],
   "source": [
    "# Python program to read\n",
    "# image using matplotlib\n",
    " \n",
    "# importing matplotlib modules\n",
    "import matplotlib.image as mpimg\n",
    "import matplotlib.pyplot as plt\n",
    " \n",
    "img = mpimg.imread('g4g.png')"
   ]
  },
  {
   "cell_type": "code",
   "execution_count": 3,
   "metadata": {},
   "outputs": [
    {
     "name": "stderr",
     "output_type": "stream",
     "text": [
      "                                                                                \r"
     ]
    },
    {
     "name": "stdout",
     "output_type": "stream",
     "text": [
      "+---------+---+\n",
      "|     name| id|\n",
      "+---------+---+\n",
      "|   Pirate|  1|\n",
      "|   Monkey|  2|\n",
      "|    Ninja|  3|\n",
      "|Spaghetti|  4|\n",
      "+---------+---+\n",
      "\n",
      "+-----------+---+\n",
      "|       name| id|\n",
      "+-----------+---+\n",
      "|   Rutabaga|  1|\n",
      "|     Pirate|  2|\n",
      "|      Ninja|  3|\n",
      "|Darth Vader|  4|\n",
      "+-----------+---+\n",
      "\n"
     ]
    }
   ],
   "source": [
    "valuesA = [('Pirate',1),('Monkey',2),('Ninja',3),('Spaghetti',4)]\n",
    "TableA = spark.createDataFrame(valuesA,['name','id'])\n",
    " \n",
    "valuesB = [('Rutabaga',1),('Pirate',2),('Ninja',3),('Darth Vader',4)]\n",
    "TableB = spark.createDataFrame(valuesB,['name','id'])\n",
    " \n",
    "TableA.show()\n",
    "TableB.show()"
   ]
  },
  {
   "cell_type": "code",
   "execution_count": 4,
   "metadata": {},
   "outputs": [
    {
     "name": "stderr",
     "output_type": "stream",
     "text": [
      "[Stage 7:==============>                                            (2 + 6) / 8]\r"
     ]
    },
    {
     "name": "stdout",
     "output_type": "stream",
     "text": [
      "+------+---+------+---+\n",
      "|  name| id|  name| id|\n",
      "+------+---+------+---+\n",
      "| Ninja|  3| Ninja|  3|\n",
      "|Pirate|  1|Pirate|  2|\n",
      "+------+---+------+---+\n",
      "\n"
     ]
    },
    {
     "name": "stderr",
     "output_type": "stream",
     "text": [
      "                                                                                \r"
     ]
    }
   ],
   "source": [
    "ta = TableA.alias('ta')\n",
    "tb = TableB.alias('tb')\n",
    "## Pyspark Inner Join Example\n",
    "inner_join = ta.join(tb, ta.name == tb.name)\n",
    "inner_join.show()"
   ]
  },
  {
   "cell_type": "code",
   "execution_count": null,
   "metadata": {},
   "outputs": [],
   "source": []
  }
 ],
 "metadata": {
  "interpreter": {
   "hash": "31f2aee4e71d21fbe5cf8b01ff0e069b9275f58929596ceb00d14d90e3e16cd6"
  },
  "kernelspec": {
   "display_name": "Python 3.8.9 64-bit",
   "language": "python",
   "name": "python3"
  },
  "language_info": {
   "codemirror_mode": {
    "name": "ipython",
    "version": 3
   },
   "file_extension": ".py",
   "mimetype": "text/x-python",
   "name": "python",
   "nbconvert_exporter": "python",
   "pygments_lexer": "ipython3",
   "version": "3.8.9"
  },
  "orig_nbformat": 4
 },
 "nbformat": 4,
 "nbformat_minor": 2
}
